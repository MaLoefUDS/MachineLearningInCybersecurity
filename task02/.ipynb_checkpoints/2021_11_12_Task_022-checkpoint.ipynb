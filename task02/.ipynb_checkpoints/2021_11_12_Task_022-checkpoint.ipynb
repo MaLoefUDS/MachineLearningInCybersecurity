{
 "cells": [
  {
   "cell_type": "markdown",
   "metadata": {
    "colab_type": "text",
    "id": "4NzyqehHjUlG"
   },
   "source": [
    "# ML in Cybersecurity: Task II\n",
    "\n",
    "## Team\n",
    "  * **Team name**:  *fill this in*\n",
    "  * **Members**:  *fill this in. format: name1 (email1), name2 (email2), ...*\n",
    "\n",
    "\n",
    "## Logistics\n",
    "  * **Due date**: 25th Nov. 2021, 23:59:59 (email the completed notebook including outputs to mlcysec_ws2022_staff@lists.cispa.saarland)\n",
    "  * Email the completed notebook to mlcysec_ws2022_staff@lists.cispa.saarland \n",
    "  * Complete this in the previously established **teams of 3**\n",
    "  * Feel free to use the course forum to discuss.\n",
    "  \n",
    "  \n",
    "## About this Project\n",
    "In this project, we dive into the vulnerabilities of machine learning models and the difficulties of defending against them. To this end, we ask you to implement an evasion attack (craft adversarial examples) yourselves, and defend your own model.   \n",
    "\n",
    "\n",
    "## A Note on Grading\n",
    "The total number of points in this project is 100. We further provide the number of points achievable with each excercise. You should take particular care to document and visualize your results.\n",
    "\n",
    "Whenever possible, please use tools like tables or figures to compare the different findings\n",
    "\n",
    "\n",
    " \n",
    "## Filling-in the Notebook\n",
    "You'll be submitting this very notebook that is filled-in with (all) your code and analysis. Make sure you submit one that has been previously executed in-order. (So that results/graphs are already visible upon opening it). \n",
    "\n",
    "The notebook you submit **should compile** (or should be self-contained and sufficiently commented). Check tutorial 1 on how to set up the Python3 environment.\n",
    "\n",
    "It is extremely important that you **do not** re-order the existing sections. Apart from that, the code blocks that you need to fill-in are given by:\n",
    "```\n",
    "#\n",
    "#\n",
    "# ------- Your Code -------\n",
    "#\n",
    "#\n",
    "```\n",
    "Feel free to break this into multiple-cells. It's even better if you interleave explanations and code-blocks so that the entire notebook forms a readable \"story\".\n",
    "\n",
    "\n",
    "## Code of Honor\n",
    "We encourage discussing ideas and concepts with other students to help you learn and better understand the course content. However, the work you submit and present **must be original** and demonstrate your effort in solving the presented problems. **We will not tolerate** blatantly using existing solutions (such as from the internet), improper collaboration (e.g., sharing code or experimental data between groups) and plagiarism. If the honor code is not met, no points will be awarded.\n",
    "\n",
    " \n",
    "  ---"
   ]
  },
  {
   "cell_type": "code",
   "execution_count": 1,
   "metadata": {
    "colab": {},
    "colab_type": "code",
    "id": "3ewNwfFvbFaR"
   },
   "outputs": [],
   "source": [
    "import time \n",
    " \n",
    "import numpy as np \n",
    "import matplotlib.pyplot as plt \n",
    "\n",
    "import json \n",
    "import time \n",
    "import pickle \n",
    "import sys \n",
    "import csv \n",
    "import os \n",
    "import os.path as osp \n",
    "import shutil \n",
    "\n",
    "import pandas as pd\n",
    "\n",
    "from IPython.display import display, HTML\n",
    " \n",
    "%matplotlib inline \n",
    "plt.rcParams['figure.figsize'] = (10.0, 8.0) # set default size of plots \n",
    "plt.rcParams['image.interpolation'] = 'nearest' \n",
    "plt.rcParams['image.cmap'] = 'gray' \n",
    " \n",
    "# for auto-reloading external modules \n",
    "# see http://stackoverflow.com/questions/1907993/autoreload-of-modules-in-ipython \n",
    "%load_ext autoreload\n",
    "%autoreload 2"
   ]
  },
  {
   "cell_type": "code",
   "execution_count": 2,
   "metadata": {
    "colab": {},
    "colab_type": "code",
    "id": "640GrzbOevr0"
   },
   "outputs": [],
   "source": [
    "# Some suggestions of our libraries that might be helpful for this project\n",
    "from collections import Counter          # an even easier way to count\n",
    "from multiprocessing import Pool         # for multiprocessing\n",
    "from tqdm import tqdm                    # fancy progress bars\n",
    "\n",
    "# Load other libraries here.\n",
    "# Keep it minimal! We should be easily able to reproduce your code.\n",
    "# We only support sklearn and pytorch.\n",
    "import torchvision.datasets as datasets\n",
    "import torchvision.transforms as transforms\n",
    "import torch.utils.data as data\n",
    "\n",
    "# We preload pytorch as an example\n",
    "import torch\n",
    "import torch.nn as nn\n",
    "import torch.nn.functional as F\n",
    "import torch.optim as optim\n",
    "from torch.utils.data import DataLoader, Dataset, TensorDataset, Subset"
   ]
  },
  {
   "cell_type": "code",
   "execution_count": 3,
   "metadata": {
    "colab": {},
    "colab_type": "code",
    "id": "GJZPEAWYMhYB"
   },
   "outputs": [],
   "source": [
    "compute_mode = 'cpu'\n",
    "\n",
    "if compute_mode == 'cpu':\n",
    "    device = torch.device('cpu')\n",
    "elif compute_mode == 'gpu':\n",
    "    # If you are using pytorch on the GPU cluster, you have to manually specify which GPU device to use\n",
    "    # It is extremely important that you *do not* spawn multi-GPU jobs.\n",
    "    os.environ[\"CUDA_VISIBLE_DEVICES\"] = '0'    # Set device ID here\n",
    "    device = torch.device('cuda')\n",
    "else:\n",
    "    raise ValueError('Unrecognized compute mode')"
   ]
  },
  {
   "cell_type": "markdown",
   "metadata": {
    "colab_type": "text",
    "id": "nxi-lLD0mKHD"
   },
   "source": [
    "#### Helpers\n",
    "\n",
    "In case you choose to have some methods you plan to reuse during the notebook, define them here. This will avoid clutter and keep rest of the notebook succinct."
   ]
  },
  {
   "cell_type": "code",
   "execution_count": 4,
   "metadata": {
    "colab": {},
    "colab_type": "code",
    "id": "VBbigqdEmKd8"
   },
   "outputs": [],
   "source": [
    "#\n",
    "#\n",
    "# ------- Your Code -------\n",
    "#\n",
    "#"
   ]
  },
  {
   "cell_type": "markdown",
   "metadata": {
    "colab_type": "text",
    "id": "n1pcmKkyjT7y"
   },
   "source": [
    "# 1. Attacking an ML-model (30 points) \n",
    "\n",
    "In this section, we implement an attack ourselves. First, however, you need a model you can attack. Feel free to choose the DNN/ConvNN from task 1.\n",
    "\n"
   ]
  },
  {
   "cell_type": "markdown",
   "metadata": {
    "colab_type": "text",
    "id": "QaJv_d_Dp7OM"
   },
   "source": [
    "## 1.1: Setting up the model and data (4 Points)\n",
    "\n",
    "Load the MNIST data, as done in task 1. \n",
    "\n",
    "Re-use the model from task 1 here and train it until it achieves reasonable accuracy (>92%).\n",
    "\n",
    "If you have the saved checkpoint from task 1, you can load it directly. But please compute here the test accuracy using this checkpoint.  \n",
    "\n",
    "**Hint:** In order to save computation time for the rest of exercise, you might consider having a relatively small model here.\n",
    "\n",
    "**Hint**: You might want to save the trained model to save time later."
   ]
  },
  {
   "cell_type": "code",
   "execution_count": 4,
   "metadata": {
    "pycharm": {
     "name": "#%%\n"
    }
   },
   "outputs": [],
   "source": [
    "# (1)load data\n",
    "\n",
    "batch_size_train = 64\n",
    "batch_size_test = 64\n",
    "n_epochs = 20\n",
    "\n",
    "transform = transforms.Compose([\n",
    "    transforms.ToTensor(), # convert the pillow image to tensor\n",
    "    transforms.Normalize((0.1307, ), (0.3081, )) # normalize\n",
    "])\n",
    "\n",
    "train_dataset = datasets.MNIST(root=\"../dataset/mnist\", train=True, download=True, transform=transform)\n",
    "test_dataset = datasets.MNIST(root=\"../dataset/mnist\", train=False, download=True, transform=transform)\n",
    "\n",
    "train_loader = DataLoader(train_dataset, shuffle=True, batch_size=batch_size_train)\n",
    "test_loader = DataLoader(test_dataset, shuffle=False, batch_size=batch_size_test)"
   ]
  },
  {
   "cell_type": "code",
   "execution_count": 5,
   "metadata": {
    "pycharm": {
     "name": "#%%\n"
    }
   },
   "outputs": [],
   "source": [
    "# (2)define model\n",
    "\n",
    "class Net(nn.Module):\n",
    "\n",
    "    def __init__(self):\n",
    "        super(Net, self).__init__()\n",
    "        self.conv1 = nn.Conv2d(1, 10, kernel_size=5)\n",
    "        self.conv2 = nn.Conv2d(10, 20, kernel_size=5)\n",
    "        self.pooling = nn.MaxPool2d(2)\n",
    "        self.flatten = nn.Flatten()\n",
    "        self.fc = nn.Linear(320, 10)\n",
    "\n",
    "    def forward(self, x):\n",
    "        x = F.relu(self.pooling(self.conv1(x)))\n",
    "        x = F.relu(self.pooling(self.conv2(x)))\n",
    "        x = self.flatten(x)\n",
    "        x = self.fc(x)\n",
    "        return x"
   ]
  },
  {
   "cell_type": "code",
   "execution_count": 6,
   "metadata": {
    "pycharm": {
     "name": "#%%\n"
    }
   },
   "outputs": [],
   "source": [
    "# (3)define loss, optimizer\n",
    "\n",
    "model = Net()\n",
    "criterion = nn.CrossEntropyLoss() # loss function\n",
    "optimizer = optim.SGD(model.parameters(), lr=0.01, momentum=0.5)"
   ]
  },
  {
   "cell_type": "code",
   "execution_count": 7,
   "metadata": {
    "pycharm": {
     "name": "#%%\n"
    }
   },
   "outputs": [],
   "source": [
    "# (4)train (You can re-use the trained model from project1)\n",
    "\n",
    "checkpoint = torch.load(\"CNN_MNIST.pkl\")\n",
    "model.load_state_dict(checkpoint['model_state_dict'])\n",
    "optimizer.load_state_dict(checkpoint['optimizer_state_dict'])\n",
    "epoch = checkpoint['epoch']"
   ]
  },
  {
   "cell_type": "code",
   "execution_count": 8,
   "metadata": {
    "pycharm": {
     "name": "#%%\n"
    }
   },
   "outputs": [],
   "source": [
    "# (5)evaluate\n",
    "\n",
    "def test(dataset):\n",
    "    model.eval()\n",
    "    correct = 0\n",
    "    total = 0\n",
    "    with torch.no_grad():\n",
    "        for data in dataset:\n",
    "            images, labels = data\n",
    "            outputs = model(images)\n",
    "            _, predicted = torch.max(outputs.data, dim=1)\n",
    "            total += labels.size(0)\n",
    "            correct += (predicted == labels).sum().item()\n",
    "    return correct / total"
   ]
  },
  {
   "cell_type": "code",
   "execution_count": 9,
   "metadata": {
    "colab": {},
    "colab_type": "code",
    "id": "c688qdGtO1v-"
   },
   "outputs": [
    {
     "name": "stdout",
     "output_type": "stream",
     "text": [
      "Epoch 20, Train acc: 0.994200, Test acc: 0.988900\n"
     ]
    }
   ],
   "source": [
    "print('Epoch %d, Train acc: %f, Test acc: %f' % (epoch, test(train_loader), test(test_loader)))"
   ]
  },
  {
   "cell_type": "markdown",
   "metadata": {
    "colab_type": "text",
    "id": "DEQrdyLHsUIu"
   },
   "source": [
    "## 1.2: Implementing the FGSM attack (7 Points)\n",
    "\n",
    "We now want to attack the model trained in the previous step. We will start with the FGSM attack as a simple example. \n",
    "\n",
    "Please implement the FGSM attack mentioned in the lecture. \n",
    "\n",
    "More details: https://arxiv.org/pdf/1412.6572.pdf\n"
   ]
  },
  {
   "cell_type": "code",
   "execution_count": 10,
   "metadata": {
    "colab": {},
    "colab_type": "code",
    "id": "gcVZnUNbRKOz",
    "pycharm": {
     "is_executing": true
    }
   },
   "outputs": [],
   "source": [
    "def FGSM(X, pertubation, grad):\n",
    "    sign = grad.sign()\n",
    "    adv_X = X + (pertubation * sign)\n",
    "    adv_X = torch.clamp(adv_X, 0, 1)\n",
    "    return adv_X"
   ]
  },
  {
   "cell_type": "markdown",
   "metadata": {
    "colab_type": "text",
    "id": "RNpI3oUoO1wE"
   },
   "source": [
    "## 1.3: Adversarial sample set (7 Points)\n",
    "\n",
    "* Please generate a dataset containing at least 1,000 adversarial examples using FGSM.\n",
    "\n",
    "* Please vary the perturbation budget (3 variants) and generate 1,000 adversarial examples for each. \n",
    "    * **Hint**: you can choose epsilons within, e.g., = [.05, .1, .15, .2, .25, .3],  using MNIST pixel values in the interval       [0, 1]\n",
    "\n",
    "* Compute the accuracy of each attack set. "
   ]
  },
  {
   "cell_type": "code",
   "execution_count": 16,
   "metadata": {
    "colab": {},
    "colab_type": "code",
    "id": "EvYpo9p2O1wF",
    "pycharm": {
     "is_executing": true
    }
   },
   "outputs": [],
   "source": [
    "execution_times = {}\n",
    "\n",
    "def create_adversarials(loader, pertubation):\n",
    "    start = time.time()\n",
    "    output = list()\n",
    "    for X, y in loader:\n",
    "        X.requires_grad = True\n",
    "        pred = model(X)\n",
    "        loss = criterion(pred, y)\n",
    "        model.zero_grad()\n",
    "        loss.backward()\n",
    "        grad = X.grad.data\n",
    "        output.append(FGSM(X, pertubation, grad))\n",
    "    execution_times[pertubation] = time.time() - start\n",
    "    return output"
   ]
  },
  {
   "cell_type": "code",
   "execution_count": 17,
   "metadata": {
    "pycharm": {
     "name": "#%%\n"
    }
   },
   "outputs": [],
   "source": [
    "# creating 1_000 adversarial images in 10 different levels of pertubation.\n",
    "# we decided on using 10 versions to better visualize the gradial decent.\n",
    "\n",
    "pertubations = [0.05, 0.1, 0.2, 0.3, 0.4, 0.5, 0.6, 0.7, 0.8, 0.9]\n",
    "\n",
    "sets = Subset(test_dataset, np.arange(1000))\n",
    "\n",
    "loader = DataLoader(sets, shuffle=False, batch_size=1)\n",
    "advs = [create_adversarials(loader, p) for p in pertubations]"
   ]
  },
  {
   "cell_type": "code",
   "execution_count": 18,
   "metadata": {
    "pycharm": {
     "name": "#%%\n"
    }
   },
   "outputs": [
    {
     "name": "stderr",
     "output_type": "stream",
     "text": [
      "/usr/local/lib/python3.9/site-packages/torchvision/datasets/mnist.py:57: UserWarning: test_labels has been renamed targets\n",
      "  warnings.warn(\"test_labels has been renamed targets\")\n"
     ]
    }
   ],
   "source": [
    "# Here we visualize the accuracy achieved by the NN on our sets\n",
    "# first we create new loaders from our lists of adversarial images\n",
    "\n",
    "\n",
    "loaders = [[], [], [], [], [], [], [], [], [], []]\n",
    "\n",
    "labels = test_loader.dataset.test_labels\n",
    "\n",
    "for i in range(len(advs[0])):\n",
    "    for idx, loader in enumerate(loaders):\n",
    "        loader.append((advs[idx][i][0], labels[i]))\n",
    "\n",
    "loaders = [DataLoader(loaders[idx], shuffle=False, batch_size=batch_size_test) for idx in range(len(loaders))]        "
   ]
  },
  {
   "cell_type": "markdown",
   "metadata": {
    "colab_type": "text",
    "id": "Ex3qQp3JolD1"
   },
   "source": [
    "## 1.4: Visualizing the results (7 Points)\n",
    "\n",
    "* Please chose one sample for each class (for example the first when iterating the test data) and plot the (ten) adversarial examples as well as the predicted label (before and after the attack)\n",
    "\n",
    "* Please repeat the visualization for the three sets you have created "
   ]
  },
  {
   "cell_type": "code",
   "execution_count": 19,
   "metadata": {
    "colab": {},
    "colab_type": "code",
    "id": "eGkp0B0PO1wJ"
   },
   "outputs": [
    {
     "data": {
      "image/png": "[encoded data removed]",
      "text/plain": [
       "<Figure size 720x576 with 100 Axes>"
      ]
     },
     "metadata": {
      "needs_background": "light"
     },
     "output_type": "display_data"
    },
    {
     "data": {
      "image/png": "[encoded data removed]",
      "text/plain": [
       "<Figure size 720x720 with 1 Axes>"
      ]
     },
     "metadata": {
      "needs_background": "light"
     },
     "output_type": "display_data"
    }
   ],
   "source": [
    "# visualize adversarial images. Same 10 images with different pertubation levels. \n",
    "\n",
    "rows, cols = 10, 10\n",
    "fig, ax = plt.subplots(nrows=rows, ncols=cols)\n",
    "\n",
    "for i in range(rows):\n",
    "    for j in range(cols):\n",
    "        ax[i][j].imshow(advs[i][j].detach().numpy()[0][0])\n",
    "\n",
    "plt.savefig('fig1.pdf')\n",
    "plt.show()\n",
    "\n",
    "plt.figure(figsize=(10,10))\n",
    "plt.plot(pertubations, [test(loader) for loader in loaders], \"*-\")\n",
    "plt.yticks(np.arange(0, 1.1, step=0.1))\n",
    "plt.xticks(np.arange(0, 1, step=0.1))\n",
    "plt.xlabel(\"Pertubation\")\n",
    "plt.ylabel(\"Accuracy\")\n",
    "plt.savefig('fig2.pdf')\n",
    "plt.show()"
   ]
  },
  {
   "cell_type": "markdown",
   "metadata": {},
   "source": [
    "## 1.5: Analyzing the results (5 Points)\n",
    "\n",
    "Please write a brief summary of your findings.  \n",
    "\n",
    "* Does the attack always succeed (the model makes wrong prediction on the adversarial sample)? What is the relationship between the attack success rate and the perturbation budget?\n",
    "* How about the computation cost of the attack? (you can report the time in second) \n",
    "* Does the attack require white-box access to the model?\n",
    "* Feel free to report your results via tables or figures, and mention any other interesting observations \n",
    "\n"
   ]
  },
  {
   "cell_type": "markdown",
   "metadata": {},
   "source": [
    "## Our Answers \n",
    "\n",
    "* There are many cases where the model still correctly classifies an image even with high pertubation applied, the ratio can be observed in the diagramm above\n",
    "* timings can be seen below ...\n",
    "* Yes the attack requires white box access. Without the knowledge about the gradient the attack would not be possible and this information is only available when the attacker has access to the underlying neural-net. \n",
    "* We were suprised by how much pertubation was needed in order to "
   ]
  },
  {
   "cell_type": "code",
   "execution_count": 20,
   "metadata": {},
   "outputs": [
    {
     "data": {
      "text/plain": [
       "{0.05: 1.2282629013061523,\n",
       " 0.1: 1.226186990737915,\n",
       " 0.2: 1.2257599830627441,\n",
       " 0.3: 1.22641921043396,\n",
       " 0.4: 1.2329998016357422,\n",
       " 0.5: 1.2276461124420166,\n",
       " 0.6: 1.26882004737854,\n",
       " 0.7: 1.342332124710083,\n",
       " 0.8: 1.3542029857635498,\n",
       " 0.9: 1.355686902999878}"
      ]
     },
     "execution_count": 20,
     "metadata": {},
     "output_type": "execute_result"
    }
   ],
   "source": [
    "execution_times"
   ]
  },
  {
   "cell_type": "markdown",
   "metadata": {
    "colab_type": "text",
    "id": "KJUmrv5Bymij"
   },
   "source": [
    "# 2. Defending an ML model (35 points) \n",
    "\n",
    "So far, we have focused on attacking an ML model. In this section, we want you to defend your model. \n"
   ]
  },
  {
   "cell_type": "markdown",
   "metadata": {
    "colab_type": "text",
    "id": "0gHUFK6Mymik"
   },
   "source": [
    "## 2.1: Implementing the adversarial training defense (20 Points)\n",
    "\n",
    "* We would like to ask you to implement the adversarial training defense (https://arxiv.org/pdf/1412.6572.pdf) mentioned in the lecture. \n",
    "\n",
    "* You can use the **FGSM adversarial training** method (i.e., train on FGSM examples). \n",
    "\n",
    "* You can also check the adversarial training implementation in other papers, e.g., http://proceedings.mlr.press/v97/pang19a/pang19a.pdf \n",
    "\n",
    "* Choose a certain **maximum perturbation budget** during training that is in the middle of the range you have experimented with before. \n",
    "\n",
    "* We do not require the defense to work perfectly - but what we want you to understand is why it works or why it does not work.\n",
    "\n",
    "**Hint:** You can save the checkpoint of the defended model as we would need it to for the third part of this exercise.\n"
   ]
  },
  {
   "cell_type": "code",
   "execution_count": 4,
   "metadata": {
    "colab": {},
    "colab_type": "code",
    "id": "DD0UalSeymim"
   },
   "outputs": [],
   "source": [
    "#\n",
    "#\n",
    "# ------- Your Code -------\n",
    "#\n",
    "#\n"
   ]
  },
  {
   "cell_type": "markdown",
   "metadata": {},
   "source": [
    "## 2.2: Evaluation (10 Points)\n",
    "\n",
    "* Craft adversarial examples using the **defended** model. This entails at least 1,000 examples crafted via FGSM. \n",
    "    * Create one set using a budget that is **less than (within)** the one used in training.\n",
    "    * Create another set using a budget that is **higher than** the one used in training. \n",
    "    * You can use two values of epsilons from question 1.3 \n",
    "    \n",
    "* Evaluate the **defended** model on these two adversarial examples sets. \n"
   ]
  },
  {
   "cell_type": "code",
   "execution_count": null,
   "metadata": {},
   "outputs": [],
   "source": [
    "#\n",
    "#\n",
    "# ------- Your Code -------\n",
    "#\n",
    "#\n",
    "\n",
    "print('Accuracy on the lower-budget adversarial samples (FGSM) %.2f'%acc_FGSM1)\n",
    "print('Accuracy on the lower-budget adversarial samples (FGSM) after defense %.2f'%acc_FGSM_defend1)\n",
    "\n",
    "print('Accuracy on the higher-budget adversarial samples (FGSM) %.2f'%acc_FGSM2)\n",
    "print('Accuracy on the higher-budget adversarial samples (FGSM) after defense %.2f'%acc_FGSM_defend2)"
   ]
  },
  {
   "cell_type": "markdown",
   "metadata": {},
   "source": [
    "## 2.3 Discussion (5 points)\n",
    "\n",
    "* How successful was the defense against the attack compared to the undefended model? How do you interpret the difference?\n",
    "* How did the two sets differ?"
   ]
  },
  {
   "cell_type": "markdown",
   "metadata": {},
   "source": [
    "**Your answers go here**"
   ]
  },
  {
   "cell_type": "markdown",
   "metadata": {},
   "source": [
    "# 3: I-FGSM attack (35 points) \n",
    "\n",
    "* FGSM is one of the simplest and earliest attacks. Since then, many more advanced attacks have been proposed. \n",
    "* One of them is the Iterative-FGSM (https://arxiv.org/pdf/1607.02533.pdf), where the attack is repeated multiple times.\n",
    "* In this part, we ask you to please implement the iterative FGSM attack. \n",
    "\n"
   ]
  },
  {
   "cell_type": "markdown",
   "metadata": {},
   "source": [
    "## 3.1: Implementing the I-FGSM attack (10 Points)\n",
    "\n",
    "**Hints**: \n",
    "\n",
    "* Your code should have an attack loop. At each step, the FGSM attack that you have implemented before is computed using a small step.\n",
    "* After each step, you should perform a per-pixel clipping to make sure the image is in the allowed range, and that the perturbation is within budget.\n"
   ]
  },
  {
   "cell_type": "code",
   "execution_count": 2,
   "metadata": {},
   "outputs": [],
   "source": [
    "# parameters\n",
    "def I_FGSM(model, lossFunc, images, labels ,eps, alpha, iters):\n",
    "    if iters == 0:\n",
    "        iters = int(min(esp+4, 1.25*eps))\n",
    "    for _ in range(iters):\n",
    "        images.requires_grad = True\n",
    "        outputs = model(images)\n",
    "        \n",
    "        # compute loss - loss function is defined in the model section\n",
    "        loss = lossFunc(outputs, labels)\n",
    "        model.zero_grad()\n",
    "        loss.backward()\n",
    "        \n",
    "        # generate adversarial images\n",
    "        adv_images = images + alpha * grad.sign()\n",
    "        \n",
    "        # clip adversarial images\n",
    "        # a = max(0, images - eps)\n",
    "        a = torch.clamp(images-eps, min=0)\n",
    "        # b = max(a, adv_images)\n",
    "        b = (a >= adv_images).float() * a + (a < adv_images).float() * adv_images\n",
    "        # c = min(b, images + eps)\n",
    "        c = (b <= images + eps).float() * b + (b > images + eps).float * images + eps\n",
    "        # final images = min(c, 255)\n",
    "        images = torch.clamp(c, max=255).detach()\n",
    "        return images\n"
   ]
  },
  {
   "cell_type": "markdown",
   "metadata": {},
   "source": [
    "## 3.2: Attack the undefended model (5 Points)\n",
    "\n",
    "* We will first attack the **undefended model** (i.e., without adversarial training).\n",
    "\n",
    "* Choose one perturbation budget from Question **1.3** for comparison. \n",
    "\n",
    "    * Hint: A simple way to choose the small step is to divide the total budget by the number of steps (e.g., 10).\n",
    "\n",
    "* Please generate 1000 adversarial examples using the **undefended** model and the **I-FGSM** you implemented. \n",
    "\n",
    "* Please compute the accuracy of the adversarial set on the **undefended** model. "
   ]
  },
  {
   "cell_type": "code",
   "execution_count": null,
   "metadata": {},
   "outputs": [],
   "source": [
    "# choose perturbation = 0.5 for comparison\n",
    "eps = 0.5\n",
    "alpha = 1/255\n",
    "\n",
    "ifgsm_images = I_FGSM(model, criterion, )\n"
   ]
  },
  {
   "cell_type": "markdown",
   "metadata": {},
   "source": [
    "### 3.2.1: Findings and comparison with FGSM (8 points)\n",
    "\n",
    "* Please report your findings. How successful was the attack? \n",
    "\n",
    "* What do you expect when increasing the number of steps? (you can experiment with different parameters of the attack and report your findings) \n",
    "\n",
    "* Compare with the basic FGSM. Using the same perturbation budget and using the same model, which attack is more successful? Why do you think this is the case? What about the computation time?\n",
    "\n",
    "* Feel free to report any interesting observations. "
   ]
  },
  {
   "cell_type": "markdown",
   "metadata": {},
   "source": [
    "**Your answers go here**"
   ]
  },
  {
   "cell_type": "markdown",
   "metadata": {},
   "source": [
    "## 3.3: Attack the defended model (5 poinst) \n",
    "\n",
    "* In the previous question, we attacked the **undefended model**. \n",
    "\n",
    "* Now, we want to explore how successful the previous implemented defense (FGSM adversarial training) is againts this new attack. (we will not implement a new defense here, we will be reusing your previous checkpoint of the **defended model**)\n",
    "\n",
    "\n",
    "* Use the **defended model** to create one set of adversarial examples. Use a perturbation budget from Question **2.2** for comparison.  "
   ]
  },
  {
   "cell_type": "code",
   "execution_count": null,
   "metadata": {},
   "outputs": [],
   "source": [
    "#\n",
    "#\n",
    "# ------- Your Code -------\n",
    "#\n",
    "#"
   ]
  },
  {
   "cell_type": "markdown",
   "metadata": {},
   "source": [
    "### 3.3.1: Discussion (7 points) \n",
    "* Please report your results. How successful was the attack on the defended model? \n",
    "* Compare it with the success of the FGSM attack on the defended model. What do you observe? How do you interpret the difference? \n",
    "* How do you think you can improve the defense against I-FGSM attack?\n",
    "\n",
    "\n",
    "* Feel free to state any interesting findings you encountered during this project."
   ]
  },
  {
   "cell_type": "markdown",
   "metadata": {},
   "source": [
    "**Your answers go here**"
   ]
  }
 ],
 "metadata": {
  "colab": {
   "collapsed_sections": [],
   "name": "Project_3_Template.ipynb",
   "provenance": []
  },
  "kernelspec": {
   "display_name": "Python 3",
   "language": "python",
   "name": "python3"
  },
  "language_info": {
   "codemirror_mode": {
    "name": "ipython",
    "version": 3
   },
   "file_extension": ".py",
   "mimetype": "text/x-python",
   "name": "python",
   "nbconvert_exporter": "python",
   "pygments_lexer": "ipython3",
   "version": "3.8.8"
  }
 },
 "nbformat": 4,
 "nbformat_minor": 4
}
