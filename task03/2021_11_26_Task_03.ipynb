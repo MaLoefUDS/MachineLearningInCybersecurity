{
 "cells": [
  {
   "cell_type": "markdown",
   "metadata": {
    "id": "qKo3S_fOsMim"
   },
   "source": [
    "# ML in Cybersecurity: Task 3\n",
    "\n",
    "## Team\n",
    "  * **Team name**:  *fill this in*\n",
    "  * **Members**:  *fill this in. format: name1 (email1), name2 (email2), name3 (email3),*\n",
    "\n",
    "\n",
    "## Logistics\n",
    "  * **Due date**: 9th December 2021, 23:59:59\n",
    "  * Email the completed notebook to: `mlcysec_ws2022_staff@lists.cispa.saarland`\n",
    "  * Complete this in **teams of 3**\n",
    "  * Feel free to use the forum to discuss.\n",
    "  \n",
    "## Timeline\n",
    "  * 26-Nov-2021: hand-out\n",
    "  * **09-Dec-2021**: Email completed notebook\n",
    "  \n",
    "  \n",
    "## About this Project\n",
    "In this project, you will explore an application of ML to a popular task in cybersecurity: malware classification.\n",
    "You will be presented with precomputed behaviour analysis reports of thousands of program binaries, many of which are malwares.\n",
    "Your goal is to train a malware detector using this behavioural reports.\n",
    "\n",
    "\n",
    "## A Note on Grading\n",
    "The grading for this project will depend on:\n",
    " 1. Vectorizing Inputs\n",
    "   * Obtaining a reasonable vectorized representations of the input data (a file containing a sequence of system calls)\n",
    "   * Understanding the influence these representations have on your model\n",
    " 1. Classification Model  \n",
    "   * Following a clear ML pipeline\n",
    "   * Obtaining reasonable performances (>60\\%) on held-out test set\n",
    "   * Choice of evaluation metric\n",
    "   * Visualizing loss/accuracy curves\n",
    " 1. Analysis\n",
    "   * Which methods (input representations/ML models) work better than the rest and why?\n",
    "   * Which hyper-parameters and design-choices were important in each of your methods?\n",
    "   * Quantifying influence of these hyper-parameters on loss and/or validation accuracies\n",
    "   * Trade-offs between methods, hyper-parameters, design-choices\n",
    "   * Anything else you find interesting (this part is open-ended)\n",
    "\n",
    "\n",
    "## Grading Details\n",
    " * 40 points: Vectorizing input data (each input = behaviour analysis file in our case)\n",
    " * 40 points: Training a classification model\n",
    " * 15 points: Analysis/Discussion\n",
    " * 5 points: Clean code\n",
    " \n",
    "## Filling-in the Notebook\n",
    "You'll be submitting this very notebook that is filled-in with your code and analysis. Make sure you submit one that has been previously executed in-order. (So that results/graphs are already visible upon opening it). \n",
    "\n",
    "The notebook you submit **should compile** (or should be self-contained and sufficiently commented). Check tutorial 1 on how to set up the Python3 environment.\n",
    "\n",
    "\n",
    "**The notebook is your project report. So, to make the report readable, omit code for techniques/models/things that did not work. You can use the final summary to provide a report about these.**\n",
    "\n",
    "It is extremely important that you **do not** re-order the existing sections. Apart from that, the code blocks that you need to fill-in are given by:\n",
    "```\n",
    "#\n",
    "#\n",
    "# ------- Your Code -------\n",
    "#\n",
    "#\n",
    "```\n",
    "Feel free to break this into multiple-cells. It's even better if you interleave explanations and code-blocks so that the entire notebook forms a readable \"story\".\n",
    "\n",
    "\n",
    "## Code of Honor\n",
    "We encourage discussing ideas and concepts with other students to help you learn and better understand the course content. However, the work you submit and present **must be original** and demonstrate your effort in solving the presented problems. **We will not tolerate** blatantly using existing solutions (such as from the internet), improper collaboration (e.g., sharing code or experimental data between groups) and plagiarism. If the honor code is not met, no points will be awarded.\n",
    "\n",
    " \n",
    " ## Versions\n",
    "  * v1.1: Updated deadline\n",
    "  * v1.0: Initial notebook\n",
    "  \n",
    "  ---"
   ]
  },
  {
   "cell_type": "code",
   "execution_count": 1,
   "metadata": {
    "id": "uyCiLbXbsMiq"
   },
   "outputs": [],
   "source": [
    "import time \n",
    " \n",
    "import numpy as np \n",
    "import matplotlib.pyplot as plt \n",
    "\n",
    "import json \n",
    "import time \n",
    "import pickle \n",
    "import sys \n",
    "import csv \n",
    "import os \n",
    "import os.path as osp \n",
    "import shutil \n",
    "import pathlib\n",
    "from pathlib import Path\n",
    "\n",
    "from IPython.display import display, HTML\n",
    " \n",
    "%matplotlib inline \n",
    "plt.rcParams['figure.figsize'] = (10.0, 8.0) # set default size of plots \n",
    "plt.rcParams['image.interpolation'] = 'nearest' \n",
    "plt.rcParams['image.cmap'] = 'gray' \n",
    " \n",
    "# for auto-reloading external modules \n",
    "# see http://stackoverflow.com/questions/1907993/autoreload-of-modules-in-ipython \n",
    "%load_ext autoreload\n",
    "%autoreload 2"
   ]
  },
  {
   "cell_type": "code",
   "execution_count": 2,
   "metadata": {
    "id": "7dHogdxRsMis"
   },
   "outputs": [],
   "source": [
    "# Some suggestions of our libraries that might be helpful for this project\n",
    "from collections import Counter          # an even easier way to count\n",
    "from multiprocessing import Pool         # for multiprocessing\n",
    "from tqdm import tqdm                    # fancy progress bars\n",
    "\n",
    "# Load other libraries here.\n",
    "# Keep it minimal! We should be easily able to reproduce your code.\n",
    "\n",
    "# We preload pytorch as an example\n",
    "import torch\n",
    "import torch.nn as nn\n",
    "import torch.nn.functional as F\n",
    "import torch.optim as optim\n",
    "from torch.utils.data import DataLoader, Dataset, TensorDataset"
   ]
  },
  {
   "cell_type": "code",
   "execution_count": 3,
   "metadata": {},
   "outputs": [],
   "source": [
    "# helpers\n",
    "\n",
    "def loading(part, whole):\n",
    "    assert(isinstance(part, int))\n",
    "    assert(isinstance(whole, int))\n",
    "    partial = (part + 1) * 100 / whole\n",
    "    sys.stdout.write('\\r{}%\\r'.format(int(partial * 100) / 100))\n",
    "    sys.stdout.flush()\n",
    "    \n",
    "malware_map = {\n",
    "    'NothingFound': 0,\n",
    "    'Basun': 1,\n",
    "    'Patched': 2,\n",
    "    'Basun': 3,\n",
    "    'Texel': 4,\n",
    "    'Swizzor': 5,\n",
    "    'Virut': 6,\n",
    "    'VB': 7,\n",
    "    'AutoIt': 8,\n",
    "    'Agent': 9,\n",
    "    'Allaple': 10\n",
    "}\n",
    "    \n",
    "def int_to_class(i):    \n",
    "    for key in malware_map.keys():\n",
    "        if malware_map[key] == i:\n",
    "            return key\n",
    "    \n",
    "def class_to_int(c):\n",
    "    return malware_map[c]"
   ]
  },
  {
   "cell_type": "markdown",
   "metadata": {
    "id": "oJWkh3GUsMit"
   },
   "source": [
    "# Setup\n",
    "\n",
    "  * Download the datasets: [train](https://nextcloud.mpi-klsb.mpg.de/index.php/s/pJrRGzm2So2PMZm) (128M) and [test](https://nextcloud.mpi-klsb.mpg.de/index.php/s/zN3yeWzQB3i5WqE) (92M)\n",
    "  * Unpack them under `./data/train` and `./data/test`\n",
    "  * Hint: you can execute shell scripts from notebooks using the `!` prefix, e.g., `! wget <url>`"
   ]
  },
  {
   "cell_type": "code",
   "execution_count": 4,
   "metadata": {
    "id": "wlhs4w44sMit"
   },
   "outputs": [
    {
     "name": "stdout",
     "output_type": "stream",
     "text": [
      "# train examples (Should be 13682) :    13682\n",
      "# test  examples (Should be 10000) :    10000\n"
     ]
    }
   ],
   "source": [
    "# Check that you are prepared with the data\n",
    "! printf '# train examples (Should be 13682) : '; ls data/train | wc -l\n",
    "! printf '# test  examples (Should be 10000) : '; ls data/test | wc -l"
   ]
  },
  {
   "cell_type": "markdown",
   "metadata": {
    "id": "Zh1-JHNIsMiv"
   },
   "source": [
    "Now that you're set, let's briefly look at the data you have been handed.\n",
    "Each file encodes the behavior report of a program (potentially a malware), using an encoding scheme called \"The Malware Instruction Set\" (MIST for short).\n",
    "At this point, we highly recommend you briefly read-up Sec. 2 of the [MIST](http://www.mlsec.org/malheur/docs/mist-tr.pdf) documentation.\n",
    "\n",
    "You will find each file named as `filename.<malwarename>`:\n",
    "```\n",
    "» ls data/train | head\n",
    "00005ecc06ae3e489042e979717bb1455f17ac9d.NothingFound\n",
    "0008e3d188483aeae0de62d8d3a1479bd63ed8c9.Basun\n",
    "000d2eea77ee037b7ef99586eb2f1433991baca9.Patched\n",
    "000d996fa8f3c83c1c5568687bb3883a543ec874.Basun\n",
    "0010f78d3ffee61101068a0722e09a98959a5f2c.Basun\n",
    "0013cd0a8febd88bfc4333e20486bd1a9816fcbf.Basun\n",
    "0014aca72eb88a7f20fce5a4e000c1f7fff4958a.Texel\n",
    "001ffc75f24a0ae63a7033a01b8152ba371f6154.Texel\n",
    "0022d6ba67d556b931e3ab26abcd7490393703c4.Basun\n",
    "0028c307a125cf0fdc97d7a1ffce118c6e560a70.Swizzor\n",
    "...\n",
    "```\n",
    "and within each file, you will see a sequence of individual systems calls monitored duing the run-time of the binary - a malware named 'Basun' in the case:\n",
    "```\n",
    "» head data/train/000d996fa8f3c83c1c5568687bb3883a543ec874.Basun\n",
    "# process 000006c8 0000066a 022c82f4 00000000 thread 0001 #\n",
    "02 01 | 000006c8 0000066a 00015000\n",
    "02 02 | 00006b2c 047c8042 000b9000\n",
    "02 02 | 00006b2c 047c8042 00108000\n",
    "02 02 | 00006b2c 047c8042 00153000\n",
    "02 02 | 00006b2c 047c8042 00091000\n",
    "02 02 | 00006b2c 047c8042 00049000\n",
    "02 02 | 00006b2c 047c8042 000aa000\n",
    "02 02 | 00006b2c 047c8042 00092000\n",
    "02 02 | 00006b2c 047c8042 00011000\n",
    "...\n",
    "```\n",
    "(**Note**: Please ignore the first line that begins with `# process ...`.)\n",
    "\n",
    "Your task in this project is to train a malware detector, which given the sequence of system calls (in the MIST-formatted file like above), predicts one of 10 classes: `{ Agent, Allaple, AutoIt, Basun, NothingFound, Patched, Swizzor, Texel, VB, Virut }`, where `NothingFound` roughly represents no malware is present.\n",
    "In terms of machine learning terminology, your malware detector $F: X \\rightarrow Y$ should learn a mapping from the MIST-encoded behaviour report (the input $x \\in X$) to the malware class $y \\in Y$.\n",
    "\n",
    "Consequently, you will primarily tackle two challenges in this project:\n",
    "  1. \"Vectorizing\" the input data i.e., representing each input (file) as a tensor\n",
    "  1. Training an ML model\n",
    "  \n",
    "\n",
    "### Some tips:\n",
    "  * Begin with an extremely simple representation/ML model and get above chance-level classification performance\n",
    "  * Choose your evaluation metric wisely\n",
    "  * Save intermediate computations (e.g., a token to index mapping). This will avoid you parsing the entire dataset for every experiment\n",
    "  * Try using `multiprocessing.Pool` to parallelize your `for` loops"
   ]
  },
  {
   "cell_type": "markdown",
   "metadata": {
    "id": "p8xloR8dsMiv"
   },
   "source": [
    "---"
   ]
  },
  {
   "cell_type": "markdown",
   "metadata": {
    "id": "vXnyDAdbsMiw"
   },
   "source": [
    "# 1. Vectorize Data"
   ]
  },
  {
   "cell_type": "markdown",
   "metadata": {
    "id": "Ia-xFIQtsMiw"
   },
   "source": [
    "## 1.a. Load Raw Data"
   ]
  },
  {
   "cell_type": "code",
   "execution_count": 37,
   "metadata": {
    "id": "ZScY-C2IsMiw"
   },
   "outputs": [],
   "source": [
    "def load_content(filepath):\n",
    "    '''Given a filepath, returns (content, classname), where content = [list of lines in file]'''\n",
    "    with open(filepath) as file:\n",
    "        lines = list(map(lambda line: line[:-2], file.readlines()))\n",
    "    return lines, filepath.split(\".\")[2]\n",
    "\n",
    "\n",
    "def load_data(data_path, nworkers=10):\n",
    "    '''Returns each data sample as a tuple (x, y), x = sequence of strings (i.e., syscalls), y = malware program class'''\n",
    "    raw_data_samples = []\n",
    "    files = os.listdir(data_path)\n",
    "    for idx, file in enumerate(files):\n",
    "        loading(idx, len(files))\n",
    "        lines, label = load_content(data_path + \"/\" + file)\n",
    "        raw_data_samples.append((lines, label))\n",
    "    return raw_data_samples"
   ]
  },
  {
   "cell_type": "code",
   "execution_count": 6,
   "metadata": {
    "id": "7BSUdq_-sMiw",
    "scrolled": true
   },
   "outputs": [
    {
     "name": "stdout",
     "output_type": "stream",
     "text": [
      "=> Loading training data ... \n",
      "100.0%\r"
     ]
    }
   ],
   "source": [
    "print('=> Loading training data ... ')\n",
    "train_raw_samples = load_data('./data/train')"
   ]
  },
  {
   "cell_type": "code",
   "execution_count": 38,
   "metadata": {
    "id": "GG6tcSNJsMiw"
   },
   "outputs": [
    {
     "name": "stdout",
     "output_type": "stream",
     "text": [
      "=> # Train samples =  10946\n",
      "=> # Val samples =  2736\n",
      "=> # Test  samples =  0\n"
     ]
    }
   ],
   "source": [
    "project_mode = 'trainval'    # trainval, traintest, debug\n",
    "np.random.seed(123)          # To perform the same split across multiple runs\n",
    "\n",
    "train = list()\n",
    "val = list()\n",
    "test = list()\n",
    "\n",
    "if project_mode == 'trainval':\n",
    "    l = len(train_raw_samples)\n",
    "    n = int(round(l * 0.8))\n",
    "    train = train_raw_samples[0:n]\n",
    "    val = train_raw_samples[n:l]\n",
    "    \n",
    "elif project_mode == 'test':\n",
    "    print('=> Loading testing data ... ')\n",
    "    test = load_data('./data/test')\n",
    "    \n",
    "elif project_mode == 'debug':\n",
    "    l = len(train_raw_samples)\n",
    "    n = int(round(l * 0.1))\n",
    "    train = train_raw_samples[0:n]\n",
    "    val = train_raw_samples[n+1:2*n+1]\n",
    "else:\n",
    "    raise ValueError('Unrecognized mode')\n",
    "    \n",
    "print('=> # Train samples = ', len(train))\n",
    "print('=> # Val samples = ', len(val))\n",
    "print('=> # Test  samples = ', len(test))"
   ]
  },
  {
   "cell_type": "markdown",
   "metadata": {
    "id": "GjiNiOVHsMiy"
   },
   "source": [
    "## 1.b. Vectorize: Setup\n",
    "\n",
    "Make one pass over the inputs to identify relevant features/tokens.\n",
    "\n",
    "Suggestion:\n",
    "  - identify tokens (e.g., unigrams, bigrams)\n",
    "  - create a token -> index (int) mapping. Note that you might have a >10K unique tokens. So, you will have to choose a suitable \"vocabulary\" size."
   ]
  },
  {
   "cell_type": "code",
   "execution_count": 39,
   "metadata": {
    "id": "DAtmzL6PsMiy"
   },
   "outputs": [],
   "source": [
    "\n",
    "import copy\n",
    "\n",
    "def get_key_idx_map(input_sets, vocab_size, n=1):\n",
    "    # counter is a mapping: token -> count\n",
    "    # build vectorizer using vocab_size most common elements\n",
    "    key_to_idx, idx_to_key = dict(), dict()\n",
    "    for idx, input_set in enumerate(input_sets):\n",
    "        loading(idx, len(input_sets))\n",
    "        key_to_idx = aggregate_dicts(key_to_idx, ngrams(input_set, n))\n",
    "    key_to_idx = cutoff_and_rank(key_to_idx, vocab_size)\n",
    "    idx_to_key = invert_dict(key_to_idx)\n",
    "    return key_to_idx, idx_to_key\n",
    "\n",
    "def ngrams(input_set, n):\n",
    "    new_counter = dict()\n",
    "    for idx in range(len(input_set)):\n",
    "        seq = ngram(input_set, idx, n)\n",
    "        if seq in new_counter:\n",
    "            new_counter[seq] += 1\n",
    "        elif len(seq) == n:\n",
    "            new_counter[seq] = 1\n",
    "    return new_counter\n",
    "\n",
    "def ngram(input_set, idx, n):\n",
    "    return tuple(input_set[idx:idx + n])\n",
    "\n",
    "def aggregate_dicts(d1, d2):\n",
    "    idx = 0\n",
    "    new_dict = copy.deepcopy(d1)\n",
    "    for val in d2:\n",
    "        count = d2[val]\n",
    "        if val in new_dict:\n",
    "            new_dict[val] += count\n",
    "        else:\n",
    "            new_dict[val] = count\n",
    "    return new_dict\n",
    "\n",
    "def cutoff_and_rank(counter, vocab_size):\n",
    "    new_counter = dict()\n",
    "    counter = copy.deepcopy(counter)\n",
    "    rank = 1\n",
    "    vocab_size = min(vocab_size, len(counter.items()))\n",
    "    for _ in range(vocab_size):\n",
    "        max_value = max(counter, key=counter.get)\n",
    "        new_counter[max_value] = rank\n",
    "        counter[max_value] = 0\n",
    "        rank += 1\n",
    "    return new_counter\n",
    "\n",
    "def invert_dict(d):\n",
    "    return {value: key for key, value in d.items()}"
   ]
  },
  {
   "cell_type": "code",
   "execution_count": 40,
   "metadata": {},
   "outputs": [],
   "source": [
    "MAX_VOCAB_SIZE = 50"
   ]
  },
  {
   "cell_type": "code",
   "execution_count": 41,
   "metadata": {
    "id": "LSMEAcgvsMiy"
   },
   "outputs": [
    {
     "name": "stdout",
     "output_type": "stream",
     "text": [
      "100.0%\r"
     ]
    }
   ],
   "source": [
    "uni_grams = get_key_idx_map(list(map(lambda s: s[0], train)), MAX_VOCAB_SIZE)"
   ]
  },
  {
   "cell_type": "code",
   "execution_count": 44,
   "metadata": {},
   "outputs": [],
   "source": [
    "path = 'application_vocab_{}.pkl'.format(MAX_VOCAB_SIZE)\n",
    "with open(path, 'wb') as file:\n",
    "    d = {'token_to_idx': uni_grams[0],\n",
    "          'idx_to_token': uni_grams[1]}\n",
    "    pickle.dump(d, file)"
   ]
  },
  {
   "cell_type": "markdown",
   "metadata": {
    "id": "QUefzVjFsMiy"
   },
   "source": [
    "## 1.c. Vectorize Data\n",
    "\n",
    "Use the (token $\\rightarrow$ index) mapping you created before to vectorize your data"
   ]
  },
  {
   "cell_type": "code",
   "execution_count": 45,
   "metadata": {
    "id": "ffJJ0XOvsMiz"
   },
   "outputs": [],
   "source": [
    "with open(path, 'rb') as file:\n",
    "    d = pickle.load(file)\n",
    "    token_to_idx = d['token_to_idx']\n",
    "    idx_to_token = d['idx_to_token']"
   ]
  },
  {
   "cell_type": "code",
   "execution_count": 46,
   "metadata": {
    "id": "CD5IqJmXsMiz"
   },
   "outputs": [],
   "source": [
    "def vectorize_raw_samples(raw_samples, nworkers=10):\n",
    "    vectorized_samples = []\n",
    "    for idx, sample in enumerate(raw_samples):\n",
    "        loading(idx, len(raw_samples))\n",
    "        lines, lable = sample\n",
    "        vectorized_samples.append((vectorize(lines), lable))\n",
    "        idx += 1\n",
    "    return vectorized_samples\n",
    "\n",
    "def vectorize(sample):\n",
    "    counter = list()\n",
    "    for idx in range(len(uni_grams[0])):\n",
    "        elem = uni_grams[1][idx + 1]\n",
    "        count = occurence(sample, elem)\n",
    "        counter.append(count)\n",
    "    return counter\n",
    "\n",
    "def occurence(lst, obj):\n",
    "    count = 0\n",
    "    for idx in range(len(lst)):\n",
    "        seq = ngram(lst, idx, len(obj))\n",
    "        if seq == obj:\n",
    "            count += 1\n",
    "    return count"
   ]
  },
  {
   "cell_type": "code",
   "execution_count": 47,
   "metadata": {
    "id": "BtS10ASbsMi0",
    "scrolled": true
   },
   "outputs": [
    {
     "name": "stdout",
     "output_type": "stream",
     "text": [
      "=> Processing: Train\n",
      "100.0%\r"
     ]
    }
   ],
   "source": [
    "print('=> Processing: Train')\n",
    "train_data = vectorize_raw_samples(train)"
   ]
  },
  {
   "cell_type": "code",
   "execution_count": null,
   "metadata": {},
   "outputs": [
    {
     "name": "stdout",
     "output_type": "stream",
     "text": [
      "=> Processing: Val\n",
      "100.0%\r"
     ]
    }
   ],
   "source": [
    "print('=> Processing: Val')\n",
    "val_data = vectorize_raw_samples(val)"
   ]
  },
  {
   "cell_type": "code",
   "execution_count": null,
   "metadata": {},
   "outputs": [
    {
     "name": "stdout",
     "output_type": "stream",
     "text": [
      "=> Processing: Test\n"
     ]
    }
   ],
   "source": [
    "print('=> Processing: Test')\n",
    "test_data = vectorize_raw_samples(test)"
   ]
  },
  {
   "cell_type": "code",
   "execution_count": 230,
   "metadata": {
    "id": "0XOHr24usMi0"
   },
   "outputs": [],
   "source": [
    "train_x, train_y, val_x, val_y, test_x, test_y = list(), list(), list(), list(), list(), list()\n",
    "    \n",
    "if project_mode == 'trainval' or project_mode == 'debug':\n",
    "    for vector, label in train_data:\n",
    "        train_x.append(vector)\n",
    "        train_y.append(class_to_int(label))\n",
    "    for vector, label in val_data:\n",
    "        val_x.append(vector)\n",
    "        val_y.append(class_to_int(label))\n",
    "else:\n",
    "    for vector, label in test_data:\n",
    "        test_x.append(vector)\n",
    "        test_y.append(class_to_int(label))"
   ]
  },
  {
   "cell_type": "code",
   "execution_count": 231,
   "metadata": {},
   "outputs": [],
   "source": [
    "assert(len(train_x) == len(train_y))\n",
    "assert(len(val_x) == len(val_y))\n",
    "assert(len(test_x) == len(test_y))\n",
    "\n",
    "if project_mode == 'trainval' or project_mode == 'debug':\n",
    "    trainset = TensorDataset(torch.tensor(train_x).float(), torch.tensor(train_y))\n",
    "    valset = TensorDataset(torch.tensor(val_x).float(), torch.tensor(val_y))\n",
    "    torch.save(trainset, 'trainset.pt')\n",
    "    torch.save(valset, 'valset.pt')\n",
    "else:\n",
    "    testset = TensorDataset(torch.tensor(test_x).float(), torch.tensor(test_y))\n",
    "    torch.save(testset, 'testset.pt')"
   ]
  },
  {
   "cell_type": "markdown",
   "metadata": {
    "id": "_l0tLsEVsMi0"
   },
   "source": [
    "# 2. Train Model\n",
    "\n",
    "You will now train an ML model on the vectorized datasets you created previously.\n",
    "\n",
    "_Note_: Although we often refer to each input as a 'vector' for simplicity, each of your inputs can also be higher dimensional tensors."
   ]
  },
  {
   "cell_type": "markdown",
   "metadata": {
    "id": "UInY1YzksMi0"
   },
   "source": [
    "## 2.a. Helpers"
   ]
  },
  {
   "cell_type": "code",
   "execution_count": null,
   "metadata": {
    "collapsed": true,
    "id": "VnSv0J75sMi0",
    "jupyter": {
     "outputs_hidden": true
    }
   },
   "outputs": [],
   "source": [
    "# Feel free to edit anything in this block\n",
    "\n",
    "def evaluate_preds(y_gt, y_pred):\n",
    "    pass\n",
    "\n",
    "\n",
    "def another_helper(question):\n",
    "    return 42\n",
    "\n",
    "\n",
    "def save_model(model, out_path):\n",
    "    pass\n",
    "\n",
    "\n",
    "def save_data(eval_data, out_path):\n",
    "    with open(out_path, 'wb') as wf:\n",
    "        pickle.dump(eval_data, out_path)"
   ]
  },
  {
   "cell_type": "markdown",
   "metadata": {
    "id": "PhbVzVLDsMi1"
   },
   "source": [
    "## 2.b. Define Model"
   ]
  },
  {
   "cell_type": "markdown",
   "metadata": {
    "id": "jrUKCNRgsMi1"
   },
   "source": [
    "Describe your model here."
   ]
  },
  {
   "cell_type": "code",
   "execution_count": 368,
   "metadata": {
    "id": "ILB2fBRWsMi1",
    "tags": []
   },
   "outputs": [],
   "source": [
    "class Net(nn.Module):\n",
    "    def __init__(self, input_dim, output_dim):\n",
    "        super(Net, self).__init__()\n",
    "        # Layer definitions\n",
    "        self.fc1 = nn.Linear(input_dim, 32)\n",
    "        self.fc2 = nn.Linear(32, 16)\n",
    "        self.fc3 = nn.Linear(16, output_dim)\n",
    "        \n",
    "\n",
    "    def forward(self, x):\n",
    "        # Forward\n",
    "        x = F.relu(self.fc1(x))\n",
    "        x = F.relu(self.fc2(x))\n",
    "        x = self.fc3(x)\n",
    "        return F.log_softmax(x)"
   ]
  },
  {
   "cell_type": "markdown",
   "metadata": {
    "id": "QO1yPx7YsMi1"
   },
   "source": [
    "## 2.c. Set Hyperparameters"
   ]
  },
  {
   "cell_type": "code",
   "execution_count": 369,
   "metadata": {
    "id": "0k0jLX5ksMi1",
    "tags": []
   },
   "outputs": [],
   "source": [
    "# Hyperparameters are defined here\n",
    "in_dims = trainset[0][0].shape[0]\n",
    "out_dims = 11\n",
    "\n",
    "n_epochs = 5\n",
    "batch_size = 16\n",
    "lr = 0.001\n",
    "loss_func = nn.CrossEntropyLoss()\n",
    "malwareClassifier = Net(in_dims, out_dims)"
   ]
  },
  {
   "cell_type": "markdown",
   "metadata": {
    "id": "NtpgVAO1sMi2"
   },
   "source": [
    "## 2.d. Train your Model"
   ]
  },
  {
   "cell_type": "code",
   "execution_count": 370,
   "metadata": {
    "id": "Co0W2ifGsMi2",
    "tags": []
   },
   "outputs": [],
   "source": [
    "loss_values = []\n",
    "def train_model(model, \n",
    "                train_loader,\n",
    "                num_epochs,\n",
    "                learning_rate,\n",
    "                loss_function):\n",
    "    model.train()\n",
    "    optimizer = optim.SGD(model.parameters(), lr=learning_rate, momentum=0.5)\n",
    "    running_loss = 0.0\n",
    "    \n",
    "    for epoch in tqdm(range(num_epochs)):\n",
    "        print(f'---------- Started Epoch {epoch} ----------')\n",
    "        \n",
    "        for train_data in train_loader:\n",
    "            \n",
    "            optimizer.zero_grad()\n",
    "            \n",
    "            inputs, targets = train_data\n",
    "            outputs = model(inputs)\n",
    "            \n",
    "            loss = loss_function(outputs, targets)\n",
    "            loss.backward()\n",
    "            optimizer.step()\n",
    "            \n",
    "            running_loss += loss.item()\n",
    "        \n",
    "        loss_value = running_loss/len(train_loader)\n",
    "        loss_values.append(loss_value)\n",
    "        print(\"Loss: {:.4f}\".format(loss_value))\n",
    "\n"
   ]
  },
  {
   "cell_type": "code",
   "execution_count": 371,
   "metadata": {
    "id": "3afVBWVKsMi2",
    "tags": []
   },
   "outputs": [
    {
     "name": "stderr",
     "output_type": "stream",
     "text": [
      "  0%|          | 0/5 [00:00<?, ?it/s]<ipython-input-368-e8a64d312a4c>:15: UserWarning: Implicit dimension choice for log_softmax has been deprecated. Change the call to include dim=X as an argument.\n",
      "  return F.log_softmax(x)\n"
     ]
    },
    {
     "name": "stdout",
     "output_type": "stream",
     "text": [
      "---------- Started Epoch 0 ----------\n"
     ]
    },
    {
     "name": "stderr",
     "output_type": "stream",
     "text": [
      " 20%|██        | 1/5 [00:00<00:01,  2.42it/s]"
     ]
    },
    {
     "name": "stdout",
     "output_type": "stream",
     "text": [
      "Loss: 3.3225\n",
      "---------- Started Epoch 1 ----------\n"
     ]
    },
    {
     "name": "stderr",
     "output_type": "stream",
     "text": [
      " 40%|████      | 2/5 [00:00<00:01,  2.64it/s]"
     ]
    },
    {
     "name": "stdout",
     "output_type": "stream",
     "text": [
      "Loss: 5.5606\n",
      "---------- Started Epoch 2 ----------\n"
     ]
    },
    {
     "name": "stderr",
     "output_type": "stream",
     "text": [
      " 60%|██████    | 3/5 [00:01<00:00,  2.72it/s]"
     ]
    },
    {
     "name": "stdout",
     "output_type": "stream",
     "text": [
      "Loss: 7.7422\n",
      "---------- Started Epoch 3 ----------\n"
     ]
    },
    {
     "name": "stderr",
     "output_type": "stream",
     "text": [
      " 80%|████████  | 4/5 [00:01<00:00,  2.66it/s]"
     ]
    },
    {
     "name": "stdout",
     "output_type": "stream",
     "text": [
      "Loss: 9.8817\n",
      "---------- Started Epoch 4 ----------\n"
     ]
    },
    {
     "name": "stderr",
     "output_type": "stream",
     "text": [
      "100%|██████████| 5/5 [00:01<00:00,  2.63it/s]"
     ]
    },
    {
     "name": "stdout",
     "output_type": "stream",
     "text": [
      "Loss: 11.9802\n"
     ]
    },
    {
     "name": "stderr",
     "output_type": "stream",
     "text": [
      "\n"
     ]
    }
   ],
   "source": [
    "# Data Loaders\n",
    "trainloader = DataLoader(trainset, batch_size=batch_size, shuffle=True)\n",
    "\n",
    "train_model(model=malwareClassifier, train_loader=trainloader, num_epochs=n_epochs,\n",
    "            loss_function=loss_func, learning_rate=lr)\n"
   ]
  },
  {
   "cell_type": "markdown",
   "metadata": {
    "id": "Z5w-7O5jsMi2"
   },
   "source": [
    "## 2.e. Evaluate model"
   ]
  },
  {
   "cell_type": "code",
   "execution_count": 384,
   "metadata": {
    "id": "CMbzX1h4sMi2",
    "tags": []
   },
   "outputs": [],
   "source": [
    "test_accuracy = []\n",
    "def test(model):\n",
    "    model.eval()\n",
    "    correct = 0\n",
    "    total = len(valset)\n",
    "    with torch.no_grad():\n",
    "        for val_data in valset:\n",
    "            inputs, labels = val_data\n",
    "            outputs = model(inputs)\n",
    "            predicted = torch.max(outputs.data)\n",
    "            correct += (predicted == labels).sum().item() \n",
    "    accuracy = correct / total\n",
    "    print(f\"Test Accuracy: {accuracy}\")\n",
    "    test_accuracy.append(accuracy)"
   ]
  },
  {
   "cell_type": "code",
   "execution_count": 385,
   "metadata": {},
   "outputs": [
    {
     "name": "stderr",
     "output_type": "stream",
     "text": [
      "<ipython-input-368-e8a64d312a4c>:15: UserWarning: Implicit dimension choice for log_softmax has been deprecated. Change the call to include dim=X as an argument.\n",
      "  return F.log_softmax(x)\n"
     ]
    },
    {
     "name": "stdout",
     "output_type": "stream",
     "text": [
      "Test Accuracy: 0.0\n"
     ]
    }
   ],
   "source": [
    "test(malwareClassifier)"
   ]
  },
  {
   "cell_type": "markdown",
   "metadata": {
    "id": "U_GE1BQjsMi3"
   },
   "source": [
    "## 2.f. Save Model + Data"
   ]
  },
  {
   "cell_type": "code",
   "execution_count": 387,
   "metadata": {
    "id": "4Xvo--GIsMi3",
    "tags": []
   },
   "outputs": [],
   "source": [
    "# save the model \n",
    "torch.save(malwareClassifier.state_dict(), \"./malwareClassifier_parameters.pt\")\n"
   ]
  },
  {
   "cell_type": "markdown",
   "metadata": {
    "id": "W-UQbfCrsMi3"
   },
   "source": [
    "---"
   ]
  },
  {
   "cell_type": "markdown",
   "metadata": {
    "id": "uLD6dur1sMi3"
   },
   "source": [
    "# 3. Analysis"
   ]
  },
  {
   "cell_type": "markdown",
   "metadata": {
    "id": "1QRKxLsPsMi3"
   },
   "source": [
    "## 3.a. Summary: Main Results\n",
    "\n",
    "Summarize your approach and results here"
   ]
  },
  {
   "cell_type": "markdown",
   "metadata": {
    "id": "dNKqJAoasMi4"
   },
   "source": [
    "## 3.b. Discussion\n",
    "\n",
    "Enter your final summary here.\n",
    "\n",
    "For instance, you can address:\n",
    "- What was the performance you obtained with the simplest approach?\n",
    "- Which vectorized input representations helped more than the others?\n",
    "- Which malwares are difficult to detect and why?\n",
    "- Which approach do you recommend to perform malware classification?"
   ]
  },
  {
   "cell_type": "code",
   "execution_count": null,
   "metadata": {
    "collapsed": true,
    "id": "xYGR9ID1sMi4",
    "jupyter": {
     "outputs_hidden": true
    }
   },
   "outputs": [],
   "source": []
  }
 ],
 "metadata": {
  "colab": {
   "collapsed_sections": [],
   "name": "Task_3.ipynb",
   "provenance": []
  },
  "kernelspec": {
   "display_name": "Python 3",
   "language": "python",
   "name": "python3"
  },
  "language_info": {
   "codemirror_mode": {
    "name": "ipython",
    "version": 3
   },
   "file_extension": ".py",
   "mimetype": "text/x-python",
   "name": "python",
   "nbconvert_exporter": "python",
   "pygments_lexer": "ipython3",
   "version": "3.8.8"
  }
 },
 "nbformat": 4,
 "nbformat_minor": 4
}
