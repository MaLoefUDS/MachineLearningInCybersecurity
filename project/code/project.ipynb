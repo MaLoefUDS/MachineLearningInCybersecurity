{
 "cells": [
  {
   "cell_type": "markdown",
   "id": "285fbaa5",
   "metadata": {},
   "source": [
    "## Attacking Apples neural hash\n",
    "\n",
    "This notebook will describe a whitebox attack on the underlying neural network of apples neural hash."
   ]
  },
  {
   "cell_type": "markdown",
   "source": [
    "### Loading the model:\n",
    "Source: https://github.com/AsuharietYgvar/AppleNeuralHash2ONNX"
   ],
   "metadata": {
    "collapsed": false,
    "pycharm": {
     "name": "#%% md\n"
    }
   }
  },
  {
   "cell_type": "code",
   "execution_count": 21,
   "outputs": [],
   "source": [
    "import onnxruntime\n",
    "import numpy as np\n",
    "from PIL import Image"
   ],
   "metadata": {
    "collapsed": false,
    "pycharm": {
     "name": "#%%\n"
    }
   }
  },
  {
   "cell_type": "code",
   "execution_count": 22,
   "outputs": [],
   "source": [
    "MODEL_PATH = \"./model.onnx\"\n",
    "OUTPUT_MATRIX_PATH = \"./neuralhash_128x96_seed1.dat\""
   ],
   "metadata": {
    "collapsed": false,
    "pycharm": {
     "name": "#%%\n"
    }
   }
  },
  {
   "cell_type": "code",
   "execution_count": 23,
   "outputs": [],
   "source": [
    "def neural_hash(image):\n",
    "    # Load ONNX model\n",
    "    session = onnxruntime.InferenceSession(MODEL_PATH)\n",
    "\n",
    "    # Load output hash matrix\n",
    "    seed1 = open(OUTPUT_MATRIX_PATH, 'rb').read()[128:]\n",
    "    seed1 = np.frombuffer(seed1, dtype=np.float32)\n",
    "    seed1 = seed1.reshape([96, 128])\n",
    "\n",
    "    # Preprocess image\n",
    "    image = Image.open(image).convert('RGB')\n",
    "    image = image.resize([360, 360])\n",
    "    arr = np.array(image).astype(np.float32) / 255.0\n",
    "    arr = arr * 2.0 - 1.0\n",
    "    arr = arr.transpose(2, 0, 1).reshape([1, 3, 360, 360])\n",
    "\n",
    "    # Run model\n",
    "    inputs = {session.get_inputs()[0].name: arr}\n",
    "    outs = session.run(None, inputs)\n",
    "\n",
    "    # Convert model output to hex hash\n",
    "    hash_output = seed1.dot(outs[0].flatten())\n",
    "    hash_bits = ''.join(['1' if it >= 0 else '0' for it in hash_output])\n",
    "    hash_hex = '{:0{}x}'.format(int(hash_bits, 2), len(hash_bits) // 4)\n",
    "\n",
    "    return hash_hex"
   ],
   "metadata": {
    "collapsed": false,
    "pycharm": {
     "name": "#%%\n"
    }
   }
  },
  {
   "cell_type": "code",
   "execution_count": 24,
   "outputs": [
    {
     "data": {
      "text/plain": "'55d07b72427978ac7a8fd1d9'"
     },
     "execution_count": 24,
     "metadata": {},
     "output_type": "execute_result"
    }
   ],
   "source": [
    "neural_hash(\"../shrek.png\")"
   ],
   "metadata": {
    "collapsed": false,
    "pycharm": {
     "name": "#%%\n"
    }
   }
  },
  {
   "cell_type": "markdown",
   "source": [
    "### Producing hash collisions\n",
    "Source: https://github.com/anishathalye/neural-hash-collider"
   ],
   "metadata": {
    "collapsed": false,
    "pycharm": {
     "name": "#%% md\n"
    }
   }
  },
  {
   "cell_type": "code",
   "execution_count": null,
   "outputs": [],
   "source": [],
   "metadata": {
    "collapsed": false,
    "pycharm": {
     "name": "#%%\n"
    }
   }
  }
 ],
 "metadata": {
  "kernelspec": {
   "display_name": "Python 3",
   "language": "python",
   "name": "python3"
  },
  "language_info": {
   "codemirror_mode": {
    "name": "ipython",
    "version": 3
   },
   "file_extension": ".py",
   "mimetype": "text/x-python",
   "name": "python",
   "nbconvert_exporter": "python",
   "pygments_lexer": "ipython3",
   "version": "3.9.9"
  }
 },
 "nbformat": 4,
 "nbformat_minor": 5
}