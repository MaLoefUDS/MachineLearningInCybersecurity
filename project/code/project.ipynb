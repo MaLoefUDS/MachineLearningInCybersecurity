{
 "cells": [
  {
   "cell_type": "markdown",
   "id": "285fbaa5",
   "metadata": {},
   "source": [
    "## Attacking Apples neural hash\n",
    "\n",
    "This notebook will describe a whitebox attack on the underlying neural network of apples neural hash."
   ]
  },
  {
   "cell_type": "markdown",
   "source": [
    "### Loading the model:\n",
    "Source: https://github.com/AsuharietYgvar/AppleNeuralHash2ONNX"
   ],
   "metadata": {
    "collapsed": false,
    "pycharm": {
     "name": "#%% md\n"
    }
   }
  },
  {
   "cell_type": "code",
   "execution_count": 21,
   "outputs": [],
   "source": [
    "import onnxruntime\n",
    "import numpy as np\n",
    "from PIL import Image"
   ],
   "metadata": {
    "collapsed": false,
    "pycharm": {
     "name": "#%%\n"
    }
   }
  },
  {
   "cell_type": "code",
   "execution_count": 22,
   "outputs": [],
   "source": [
    "MODEL_PATH = \"./model.onnx\"\n",
    "OUTPUT_MATRIX_PATH = \"./neuralhash_128x96_seed1.dat\""
   ],
   "metadata": {
    "collapsed": false,
    "pycharm": {
     "name": "#%%\n"
    }
   }
  },
  {
   "cell_type": "code",
   "execution_count": 23,
   "outputs": [],
   "source": [
    "def neural_hash(image):\n",
    "    # Load ONNX model\n",
    "    session = onnxruntime.InferenceSession(MODEL_PATH)\n",
    "\n",
    "    # Load output hash matrix\n",
    "    seed1 = open(OUTPUT_MATRIX_PATH, 'rb').read()[128:]\n",
    "    seed1 = np.frombuffer(seed1, dtype=np.float32)\n",
    "    seed1 = seed1.reshape([96, 128])\n",
    "\n",
    "    # Preprocess image\n",
    "    image = Image.open(image).convert('RGB')\n",
    "    image = image.resize([360, 360])\n",
    "    arr = np.array(image).astype(np.float32) / 255.0\n",
    "    arr = arr * 2.0 - 1.0\n",
    "    arr = arr.transpose(2, 0, 1).reshape([1, 3, 360, 360])\n",
    "\n",
    "    # Run model\n",
    "    inputs = {session.get_inputs()[0].name: arr}\n",
    "    outs = session.run(None, inputs)\n",
    "\n",
    "    # Convert model output to hex hash\n",
    "    hash_output = seed1.dot(outs[0].flatten())\n",
    "    hash_bits = ''.join(['1' if it >= 0 else '0' for it in hash_output])\n",
    "    hash_hex = '{:0{}x}'.format(int(hash_bits, 2), len(hash_bits) // 4)\n",
    "\n",
    "    return hash_hex"
   ],
   "metadata": {
    "collapsed": false,
    "pycharm": {
     "name": "#%%\n"
    }
   }
  },
  {
   "cell_type": "code",
   "execution_count": 24,
   "outputs": [
    {
     "data": {
      "text/plain": "'55d07b72427978ac7a8fd1d9'"
     },
     "execution_count": 24,
     "metadata": {},
     "output_type": "execute_result"
    }
   ],
   "source": [
    "neural_hash(\"../shrek.png\")"
   ],
   "metadata": {
    "collapsed": false,
    "pycharm": {
     "name": "#%%\n"
    }
   }
  },
  {
   "cell_type": "markdown",
   "source": [
    "### Producing hash collisions\n",
    "Source: https://github.com/anishathalye/neural-hash-collider"
   ],
   "metadata": {
    "collapsed": false,
    "pycharm": {
     "name": "#%% md\n"
    }
   }
  },
  {
   "cell_type": "code",
   "execution_count": 27,
   "outputs": [
    {
     "ename": "ModuleNotFoundError",
     "evalue": "No module named 'util'",
     "output_type": "error",
     "traceback": [
      "\u001B[0;31m---------------------------------------------------------------------------\u001B[0m",
      "\u001B[0;31mModuleNotFoundError\u001B[0m                       Traceback (most recent call last)",
      "\u001B[0;32m<ipython-input-27-40ae844aa56f>\u001B[0m in \u001B[0;36m<module>\u001B[0;34m\u001B[0m\n\u001B[0;32m----> 1\u001B[0;31m \u001B[0;32mimport\u001B[0m \u001B[0msubmodule\u001B[0m\u001B[0;34m.\u001B[0m\u001B[0mcollisions\u001B[0m \u001B[0;32mas\u001B[0m \u001B[0mcollisions\u001B[0m\u001B[0;34m\u001B[0m\u001B[0;34m\u001B[0m\u001B[0m\n\u001B[0m",
      "\u001B[0;32m~/Desktop/Studium/5/ML/repo/project/code/submodule/collisions.py\u001B[0m in \u001B[0;36m<module>\u001B[0;34m\u001B[0m\n\u001B[1;32m      4\u001B[0m \u001B[0;32mfrom\u001B[0m \u001B[0mscipy\u001B[0m\u001B[0;34m.\u001B[0m\u001B[0mndimage\u001B[0m\u001B[0;34m.\u001B[0m\u001B[0mfilters\u001B[0m \u001B[0;32mimport\u001B[0m \u001B[0mgaussian_filter\u001B[0m\u001B[0;34m\u001B[0m\u001B[0;34m\u001B[0m\u001B[0m\n\u001B[1;32m      5\u001B[0m \u001B[0;32mimport\u001B[0m \u001B[0mos\u001B[0m\u001B[0;34m\u001B[0m\u001B[0;34m\u001B[0m\u001B[0m\n\u001B[0;32m----> 6\u001B[0;31m \u001B[0;32mfrom\u001B[0m \u001B[0mutil\u001B[0m \u001B[0;32mimport\u001B[0m \u001B[0;34m*\u001B[0m\u001B[0;34m\u001B[0m\u001B[0;34m\u001B[0m\u001B[0m\n\u001B[0m\u001B[1;32m      7\u001B[0m \u001B[0;34m\u001B[0m\u001B[0m\n\u001B[1;32m      8\u001B[0m \u001B[0;34m\u001B[0m\u001B[0m\n",
      "\u001B[0;31mModuleNotFoundError\u001B[0m: No module named 'util'"
     ]
    }
   ],
   "source": [
    "import submodule.collisions as collisions"
   ],
   "metadata": {
    "collapsed": false,
    "pycharm": {
     "name": "#%%\n"
    }
   }
  },
  {
   "cell_type": "code",
   "execution_count": 28,
   "outputs": [
    {
     "ename": "NameError",
     "evalue": "name 'collisions' is not defined",
     "output_type": "error",
     "traceback": [
      "\u001B[0;31m---------------------------------------------------------------------------\u001B[0m",
      "\u001B[0;31mNameError\u001B[0m                                 Traceback (most recent call last)",
      "\u001B[0;32m<ipython-input-28-da99bd7b98ae>\u001B[0m in \u001B[0;36m<module>\u001B[0;34m\u001B[0m\n\u001B[0;32m----> 1\u001B[0;31m \u001B[0mcollisions\u001B[0m\u001B[0;34m.\u001B[0m\u001B[0mcollide\u001B[0m\u001B[0;34m(\u001B[0m\u001B[0;34m\"../../shrek.png\"\u001B[0m\u001B[0;34m,\u001B[0m \u001B[0miterations\u001B[0m\u001B[0;34m=\u001B[0m\u001B[0;36m100\u001B[0m\u001B[0;34m,\u001B[0m \u001B[0mtarget\u001B[0m\u001B[0;34m=\u001B[0m\u001B[0;34m\"55d07b72427978ac7a8fd100\"\u001B[0m\u001B[0;34m)\u001B[0m\u001B[0;34m\u001B[0m\u001B[0;34m\u001B[0m\u001B[0m\n\u001B[0m",
      "\u001B[0;31mNameError\u001B[0m: name 'collisions' is not defined"
     ]
    }
   ],
   "source": [
    "collisions.collide(\"../../shrek.png\", iterations=100, target=\"55d07b72427978ac7a8fd100\")"
   ],
   "metadata": {
    "collapsed": false,
    "pycharm": {
     "name": "#%%\n"
    }
   }
  },
  {
   "cell_type": "code",
   "execution_count": null,
   "outputs": [],
   "source": [],
   "metadata": {
    "collapsed": false,
    "pycharm": {
     "name": "#%%\n"
    }
   }
  }
 ],
 "metadata": {
  "kernelspec": {
   "display_name": "Python 3",
   "language": "python",
   "name": "python3"
  },
  "language_info": {
   "codemirror_mode": {
    "name": "ipython",
    "version": 3
   },
   "file_extension": ".py",
   "mimetype": "text/x-python",
   "name": "python",
   "nbconvert_exporter": "python",
   "pygments_lexer": "ipython3",
   "version": "3.9.9"
  }
 },
 "nbformat": 4,
 "nbformat_minor": 5
}